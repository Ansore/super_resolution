{
 "cells": [
  {
   "cell_type": "code",
   "execution_count": 2,
   "metadata": {},
   "outputs": [],
   "source": [
    "from bs4 import BeautifulSoup\n",
    "import requests\n",
    "import uuid"
   ]
  },
  {
   "cell_type": "code",
   "execution_count": 3,
   "metadata": {},
   "outputs": [],
   "source": [
    "def download_jpg(img_url):\n",
    "    r = requests.get(img_url, stream=True)\n",
    "    if r.status_code == 200:\n",
    "        open('./images/'+str(uuid.uuid1())+'.png', 'wb').write(r.content)\n",
    "        print(img_url+\"----------done\")\n",
    "    else:\n",
    "        print(img_url + \"----------failed\")\n",
    "    del r"
   ]
  },
  {
   "cell_type": "code",
   "execution_count": 5,
   "metadata": {},
   "outputs": [],
   "source": [
    "headers = {\n",
    "    'User-Agent':\n",
    "    'Mozilla/5.0 (Macintosh; Intel Mac OS X 10_12_3) AppleWebKit/537.36 (KHTML, like Gecko) Chrome/56.0.2924.87 Safari/537.36'\n",
    "}\n",
    "host_url = \"http://konachan.net/post?page=2\"\n",
    "r = requests.get(host_url, headers=headers)\n",
    "html_soup = BeautifulSoup(r.text, 'html.parser')"
   ]
  },
  {
   "cell_type": "code",
   "execution_count": 16,
   "metadata": {},
   "outputs": [
    {
     "name": "stdout",
     "output_type": "stream",
     "text": [
      "http://konachan.net/post/show/303315\n",
      "http://konachan.net/post/show/303309\n",
      "http://konachan.net/post/show/303307\n",
      "http://konachan.net/post/show/303305\n",
      "http://konachan.net/post/show/303304\n",
      "http://konachan.net/post/show/303302\n",
      "http://konachan.net/post/show/303298\n",
      "http://konachan.net/post/show/303297\n",
      "http://konachan.net/post/show/303296\n",
      "http://konachan.net/post/show/303295\n"
     ]
    }
   ],
   "source": [
    "for i in html_soup.find('ul', id='post-list-posts').find_all('li'):\n",
    "    print(i.find('span', class_='plid').string.split(' ')[1])"
   ]
  },
  {
   "cell_type": "code",
   "execution_count": 55,
   "metadata": {},
   "outputs": [],
   "source": [
    "r2 = requests.get(\"http://konachan.net/post/show/303304\", headers=headers)\n",
    "html_soup2 = BeautifulSoup(r2.text, 'html.parser')"
   ]
  },
  {
   "cell_type": "code",
   "execution_count": 59,
   "metadata": {},
   "outputs": [],
   "source": [
    "html_soup2.find('a', id='png').get('href')"
   ]
  },
  {
   "cell_type": "code",
   "execution_count": 29,
   "metadata": {},
   "outputs": [
    {
     "name": "stderr",
     "output_type": "stream",
     "text": [
      "/usr/lib/python3.7/site-packages/ipykernel_launcher.py:9: DeprecationWarning: use options instead of chrome_options\n",
      "  if __name__ == '__main__':\n"
     ]
    }
   ],
   "source": [
    "from selenium import webdriver\n",
    "\n",
    "from selenium.webdriver.chrome.options import Options\n",
    "\n",
    "chrome_options = Options()\n",
    "chrome_options.add_argument('--headless')\n",
    "chrome_options.add_argument('--disable-gpu')\n",
    "\n",
    "browser = webdriver.Chrome(chrome_options=chrome_options)"
   ]
  },
  {
   "cell_type": "code",
   "execution_count": 32,
   "metadata": {},
   "outputs": [],
   "source": [
    "browser.get('http://konachan.net/post/show/303304')\n"
   ]
  },
  {
   "cell_type": "code",
   "execution_count": 35,
   "metadata": {},
   "outputs": [],
   "source": [
    "\n",
    "# print(browser.page_source)\n",
    "html_soup3 = BeautifulSoup(browser.page_source, 'html.parser')"
   ]
  },
  {
   "cell_type": "code",
   "execution_count": null,
   "metadata": {},
   "outputs": [],
   "source": []
  },
  {
   "cell_type": "code",
   "execution_count": 50,
   "metadata": {},
   "outputs": [],
   "source": [
    "text = html_soup3.find('a', id='png').get('href')"
   ]
  },
  {
   "cell_type": "code",
   "execution_count": 54,
   "metadata": {},
   "outputs": [
    {
     "name": "stdout",
     "output_type": "stream",
     "text": [
      "https://konachan.net/image/4b75a1b7045cf536a7e1e3acf364a9c1/Konachan.com%20-%20303304%20animal_ears%20ayamori_mimi%20bunny_ears%20eyepatch%20horns%20mask%20navel%20original%20photoshop%20pink_hair%20torn_clothes%20white%20yellow_eyes.png----------done\n"
     ]
    }
   ],
   "source": [
    "download_jpg(text)"
   ]
  },
  {
   "cell_type": "code",
   "execution_count": null,
   "metadata": {},
   "outputs": [],
   "source": []
  }
 ],
 "metadata": {
  "kernelspec": {
   "display_name": "Python 3",
   "language": "python",
   "name": "python3"
  },
  "language_info": {
   "codemirror_mode": {
    "name": "ipython",
    "version": 3
   },
   "file_extension": ".py",
   "mimetype": "text/x-python",
   "name": "python",
   "nbconvert_exporter": "python",
   "pygments_lexer": "ipython3",
   "version": "3.7.2"
  }
 },
 "nbformat": 4,
 "nbformat_minor": 2
}
